{
 "cells": [
  {
   "cell_type": "code",
   "execution_count": 1,
   "id": "be7d82bf",
   "metadata": {},
   "outputs": [],
   "source": [
    "import fitz\n",
    "import os\n",
    "import base64\n",
    "import io\n",
    "from PIL import Image"
   ]
  },
  {
   "cell_type": "code",
   "execution_count": 2,
   "id": "3a1a3f93",
   "metadata": {},
   "outputs": [],
   "source": [
    "def get_image_caption(image_bytes: bytes) -> str:\n",
    "    \"\"\"VLM captioning. Replace with actual VLM call.\"\"\"\n",
    "    return \"This is a placeholder caption for an image.\""
   ]
  },
  {
   "cell_type": "code",
   "execution_count": 3,
   "id": "5d458073",
   "metadata": {},
   "outputs": [],
   "source": [
    "def table_to_markdown(tabele_data: list) -> str:\n",
    "    \"\"\"Converts a table (list of lists) to a Markdown format\"\"\"\n",
    "    return \"This is a placeholder for converted markdown of a table\""
   ]
  },
  {
   "cell_type": "code",
   "execution_count": 4,
   "id": "c8ac6382",
   "metadata": {},
   "outputs": [],
   "source": [
    "def process_pdf(pdf_path: str) -> str:\n",
    "    \"\"\"\n",
    "        Processes a PDF, extracts text, images (gets captions), and tables,\n",
    "        and returns a Markdown string.\n",
    "    \"\"\"\n",
    "    doc = fitz.open(pdf_path)\n",
    "    print(f\"Processing PDF: {pdf_path} with {len(doc)} pages.\")\n",
    "    \n",
    "    for page_num in range(len(doc)):\n",
    "        page = doc.load_page(page_num)\n",
    "        \n",
    "        page_content = []\n",
    "        page_content.append(f\"\\n## Page {page_num + 1}\\n\")\n",
    "        \n",
    "        # Extracting Text\n",
    "        text = page.get_text(\"text\")\n",
    "        if text.strip():\n",
    "            # page_content.append(\"### Text\\n\")\n",
    "            # page_content.append(text.strip())\n",
    "            # page_content.append(\"\\n\")\n",
    "            pass\n",
    "            \n",
    "        \n",
    "        # Extracting Images and getting caption\n",
    "        image_list = page.get_images(full=True)\n",
    "        print(f\"Page: {page_num}\")\n",
    "        # print(image_list)\n",
    "        if image_list:\n",
    "            print(f\"YESS: {page_num}\")\n",
    "            page_content.append(\"### Images\\n\")\n",
    "            # Write logic here to caption the images\n",
    "            \n",
    "        \n",
    "        # Extracting tables\n",
    "        # PyMuPDF's table extraction is heuristic.\n",
    "        # For complex tables, check pdfplumber or camelot-py.\n",
    "        tables = page.find_tables()\n",
    "        if tables.tables:\n",
    "            # page_content.append(\"### Table\\n\")\n",
    "            # Write logic here to convert table into plain text\n",
    "            pass\n",
    "                    \n",
    "    print(page_content)"
   ]
  },
  {
   "cell_type": "code",
   "execution_count": 31,
   "id": "be6e3e26",
   "metadata": {},
   "outputs": [],
   "source": [
    "PDF_PATH = 'Data/Math for AI Coding Assignment.pdf'"
   ]
  },
  {
   "cell_type": "code",
   "execution_count": 32,
   "id": "d973d83c",
   "metadata": {},
   "outputs": [
    {
     "name": "stdout",
     "output_type": "stream",
     "text": [
      "Processing PDF: Data/Math for AI Coding Assignment.pdf with 16 pages.\n",
      "Page: 0\n",
      "Page: 1\n",
      "YESS: 1\n",
      "Page: 2\n",
      "YESS: 2\n",
      "Page: 3\n",
      "YESS: 3\n",
      "Page: 4\n",
      "YESS: 4\n",
      "Page: 5\n",
      "YESS: 5\n",
      "Page: 6\n",
      "YESS: 6\n",
      "Page: 7\n",
      "YESS: 7\n",
      "Page: 8\n",
      "YESS: 8\n",
      "Page: 9\n",
      "YESS: 9\n",
      "Page: 10\n",
      "YESS: 10\n",
      "Page: 11\n",
      "YESS: 11\n",
      "Page: 12\n",
      "YESS: 12\n",
      "Page: 13\n",
      "YESS: 13\n",
      "Page: 14\n",
      "Page: 15\n",
      "['\\n## Page 16\\n']\n"
     ]
    }
   ],
   "source": [
    "process_pdf(PDF_PATH)"
   ]
  },
  {
   "cell_type": "code",
   "execution_count": 34,
   "id": "29ee6871",
   "metadata": {},
   "outputs": [
    {
     "name": "stdout",
     "output_type": "stream",
     "text": [
      "Processing PDF: Data/Math for AI Coding Assignment.pdf with 16 pages.\n",
      "317\n",
      "24\n"
     ]
    }
   ],
   "source": [
    "doc = fitz.open(PDF_PATH)\n",
    "print(f\"Processing PDF: {PDF_PATH} with {len(doc)} pages.\")\n",
    "print(doc.xref_length())\n",
    "\n",
    "c = 0\n",
    "for page_num in range(len(doc)):\n",
    "    page = doc.load_page(page_num)\n",
    "    \n",
    "    page_content = []\n",
    "    page_content.append(f\"\\n## Page {page_num + 1}\\n\")\n",
    "    \n",
    "    image_list = page.get_images(full=True)\n",
    "    # print(f\"Page: {page_num}\")\n",
    "    # print(image_list)\n",
    "    if image_list:\n",
    "        c += len(image_list)\n",
    "        page_content.append(\"### Images\\n\")\n",
    "        \n",
    "    \n",
    "print(c)"
   ]
  },
  {
   "cell_type": "code",
   "execution_count": null,
   "id": "86d37d33",
   "metadata": {},
   "outputs": [],
   "source": [
    "# Geek for geeks saving images\n",
    "# STEP 1\n",
    "# import libraries\n",
    "import fitz  # PyMuPDF\n",
    "import io\n",
    "from PIL import Image\n",
    "\n",
    "# STEP 2\n",
    "# file path you want to extract images from\n",
    "file = \"/content/pdf_file.pdf\"\n",
    "\n",
    "# open the file\n",
    "pdf_file = fitz.open(file)\n",
    "\n",
    "# STEP 3\n",
    "# iterate over PDF pages\n",
    "for page_index in range(len(pdf_file)):\n",
    "\n",
    "    # get the page itself\n",
    "    page = pdf_file.load_page(page_index)  # load the page\n",
    "    image_list = page.get_images(full=True)  # get images on the page\n",
    "\n",
    "    # printing number of images found in this page\n",
    "    if image_list:\n",
    "        print(f\"[+] Found a total of {len(image_list)} images on page {page_index}\")\n",
    "    else:\n",
    "        print(\"[!] No images found on page\", page_index)\n",
    "    \n",
    "    for image_index, img in enumerate(image_list, start=1):\n",
    "        # get the XREF of the image\n",
    "        xref = img[0]\n",
    "\n",
    "        # extract the image bytes\n",
    "        base_image = pdf_file.extract_image(xref)\n",
    "        image_bytes = base_image[\"image\"]\n",
    "\n",
    "        # get the image extension\n",
    "        image_ext = base_image[\"ext\"]\n",
    "\n",
    "        # save the image\n",
    "        image_name = f\"image{page_index+1}_{image_index}.{image_ext}\"\n",
    "        with open(image_name, \"wb\") as image_file:\n",
    "            image_file.write(image_bytes)\n",
    "            print(f\"[+] Image saved as {image_name}\")"
   ]
  },
  {
   "cell_type": "code",
   "execution_count": null,
   "id": "3f465e4d",
   "metadata": {},
   "outputs": [],
   "source": []
  }
 ],
 "metadata": {
  "kernelspec": {
   "display_name": ".venv",
   "language": "python",
   "name": "python3"
  },
  "language_info": {
   "codemirror_mode": {
    "name": "ipython",
    "version": 3
   },
   "file_extension": ".py",
   "mimetype": "text/x-python",
   "name": "python",
   "nbconvert_exporter": "python",
   "pygments_lexer": "ipython3",
   "version": "3.12.4"
  }
 },
 "nbformat": 4,
 "nbformat_minor": 5
}
