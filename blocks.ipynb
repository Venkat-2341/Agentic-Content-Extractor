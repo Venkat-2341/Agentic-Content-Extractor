{
 "cells": [
  {
   "cell_type": "code",
   "execution_count": 2,
   "id": "be7d82bf",
   "metadata": {},
   "outputs": [],
   "source": [
    "import fitz\n",
    "import os\n",
    "import base64\n",
    "import io\n",
    "from PIL import Image"
   ]
  },
  {
   "cell_type": "code",
   "execution_count": 6,
   "id": "3a1a3f93",
   "metadata": {},
   "outputs": [],
   "source": [
    "def get_image_caption(image_bytes: bytes) -> str:\n",
    "    \"\"\"VLM captioning. Replace with actual VLM call.\"\"\"\n",
    "    return \"This is a placeholder caption for an image.\""
   ]
  },
  {
   "cell_type": "code",
   "execution_count": null,
   "id": "5d458073",
   "metadata": {},
   "outputs": [],
   "source": [
    "def table_to_markdown(table_data: list) -> str:\n",
    "    \"\"\"Converts a table (list of lists) to a Markdown format\"\"\"\n",
    "    return \"This is a placeholder for converted markdown of a table\""
   ]
  },
  {
   "cell_type": "code",
   "execution_count": 15,
   "id": "c8ac6382",
   "metadata": {},
   "outputs": [],
   "source": [
    "def process_pdf(pdf_path: str) -> str:\n",
    "    \"\"\"\n",
    "        Processes a PDF, extracts text, images (gets captions), and tables,\n",
    "        and returns a Markdown string.\n",
    "    \"\"\"\n",
    "    doc = fitz.open(pdf_path)\n",
    "    print(f\"Processing PDF: {pdf_path} with {len(doc)} pages.\")\n",
    "    \n",
    "    for page_num in range(len(doc)):\n",
    "        page = doc.load_page(page_num)\n",
    "        \n",
    "        page_content = []\n",
    "        page_content.append(f\"\\n## Page {page_num + 1}\\n\")\n",
    "        \n",
    "        # Extracting Text\n",
    "        text = page.get_text(\"text\")\n",
    "        if text.strip():\n",
    "            # page_content.append(\"### Text\\n\")\n",
    "            page_content.append(text.strip())\n",
    "            # page_content.append(\"\\n\")\n",
    "            pass\n",
    "            \n",
    "        \n",
    "        # Extracting Images and getting caption\n",
    "        image_list = page.get_images(full=True)\n",
    "        print(f\"Page: {page_num}\")\n",
    "        if image_list:\n",
    "            # print(f\"YESS: {page_num}\")\n",
    "            page_content.append(\"### Images\\n\")\n",
    "            \n",
    "            for img in image_list:\n",
    "                \n",
    "                # get the XREF of the image\n",
    "                xref = img[0]\n",
    "\n",
    "                base_image = doc.extract_image(xref)\n",
    "                # base_image is a dictionary with lot of info\n",
    "                \n",
    "                # this is the bytes of the image, true representation of the image\n",
    "                image_bytes = base_image[\"image\"]\n",
    "                \n",
    "                # get the image extension(useful for saving the img)\n",
    "                # image_ext = base_image[\"ext\"]\n",
    "                \n",
    "                # Caption the image and add it to our page_content\n",
    "                caption = get_image_caption(image_bytes)\n",
    "                page_content.append(caption)\n",
    "\n",
    "        \n",
    "        # Extracting tables\n",
    "        # PyMuPDF's table extraction is heuristic.\n",
    "        # For complex tables, check pdfplumber or camelot-py.\n",
    "        tables = page.find_tables()\n",
    "        if tables.tables:\n",
    "            # page_content.append(\"### Table\\n\")\n",
    "            # Write logic here to convert table into plain text\n",
    "            pass\n",
    "                    \n",
    "        print(page_content)"
   ]
  },
  {
   "cell_type": "code",
   "execution_count": 12,
   "id": "be6e3e26",
   "metadata": {},
   "outputs": [],
   "source": [
    "PDF_PATH = 'Data/Math for AI Coding Assignment.pdf'"
   ]
  },
  {
   "cell_type": "code",
   "execution_count": 13,
   "id": "d973d83c",
   "metadata": {},
   "outputs": [
    {
     "name": "stdout",
     "output_type": "stream",
     "text": [
      "Processing PDF: Data/Math for AI Coding Assignment.pdf with 16 pages.\n",
      "Page: 0\n",
      "['\\n## Page 1\\n']\n",
      "Page: 1\n",
      "YESS: 1\n",
      "['\\n## Page 2\\n', '### Images\\n', 'This is a placeholder caption for an image.', 'This is a placeholder caption for an image.']\n",
      "Page: 2\n",
      "YESS: 2\n",
      "['\\n## Page 3\\n', '### Images\\n', 'This is a placeholder caption for an image.']\n",
      "Page: 3\n",
      "YESS: 3\n",
      "['\\n## Page 4\\n', '### Images\\n', 'This is a placeholder caption for an image.']\n",
      "Page: 4\n",
      "YESS: 4\n",
      "['\\n## Page 5\\n', '### Images\\n', 'This is a placeholder caption for an image.', 'This is a placeholder caption for an image.']\n",
      "Page: 5\n",
      "YESS: 5\n",
      "['\\n## Page 6\\n', '### Images\\n', 'This is a placeholder caption for an image.', 'This is a placeholder caption for an image.']\n",
      "Page: 6\n",
      "YESS: 6\n",
      "['\\n## Page 7\\n', '### Images\\n', 'This is a placeholder caption for an image.', 'This is a placeholder caption for an image.']\n",
      "Page: 7\n",
      "YESS: 7\n",
      "['\\n## Page 8\\n', '### Images\\n', 'This is a placeholder caption for an image.', 'This is a placeholder caption for an image.']\n",
      "Page: 8\n",
      "YESS: 8\n",
      "['\\n## Page 9\\n', '### Images\\n', 'This is a placeholder caption for an image.', 'This is a placeholder caption for an image.']\n",
      "Page: 9\n",
      "YESS: 9\n",
      "['\\n## Page 10\\n', '### Images\\n', 'This is a placeholder caption for an image.', 'This is a placeholder caption for an image.']\n",
      "Page: 10\n",
      "YESS: 10\n",
      "['\\n## Page 11\\n', '### Images\\n', 'This is a placeholder caption for an image.', 'This is a placeholder caption for an image.']\n",
      "Page: 11\n",
      "YESS: 11\n",
      "['\\n## Page 12\\n', '### Images\\n', 'This is a placeholder caption for an image.', 'This is a placeholder caption for an image.']\n",
      "Page: 12\n",
      "YESS: 12\n",
      "['\\n## Page 13\\n', '### Images\\n', 'This is a placeholder caption for an image.', 'This is a placeholder caption for an image.']\n",
      "Page: 13\n",
      "YESS: 13\n",
      "['\\n## Page 14\\n', '### Images\\n', 'This is a placeholder caption for an image.', 'This is a placeholder caption for an image.']\n",
      "Page: 14\n",
      "['\\n## Page 15\\n']\n",
      "Page: 15\n",
      "['\\n## Page 16\\n']\n"
     ]
    }
   ],
   "source": [
    "process_pdf(PDF_PATH)"
   ]
  },
  {
   "cell_type": "code",
   "execution_count": 17,
   "id": "3f465e4d",
   "metadata": {},
   "outputs": [
    {
     "name": "stdout",
     "output_type": "stream",
     "text": [
      "\n",
      "## Page 2\n",
      "\n",
      "How are you doing :)\n",
      "\n",
      "\n",
      "I am great!\n",
      "\n",
      "\n",
      "### Images\n",
      "\n",
      "This is a placeholder caption for an image.\n",
      "This is a placeholder caption for an image.\n"
     ]
    }
   ],
   "source": [
    "content_list = ['\\n## Page 2\\n', 'How are you doing :)','\\n', 'I am great!','\\n','### Images\\n', 'This is a placeholder caption for an image.', 'This is a placeholder caption for an image.']\n",
    "markdown_text = '\\n'.join(content_list)\n",
    "\n",
    "print(markdown_text)"
   ]
  },
  {
   "cell_type": "code",
   "execution_count": null,
   "id": "53221992",
   "metadata": {},
   "outputs": [],
   "source": []
  }
 ],
 "metadata": {
  "kernelspec": {
   "display_name": ".venv",
   "language": "python",
   "name": "python3"
  },
  "language_info": {
   "codemirror_mode": {
    "name": "ipython",
    "version": 3
   },
   "file_extension": ".py",
   "mimetype": "text/x-python",
   "name": "python",
   "nbconvert_exporter": "python",
   "pygments_lexer": "ipython3",
   "version": "3.12.4"
  }
 },
 "nbformat": 4,
 "nbformat_minor": 5
}
